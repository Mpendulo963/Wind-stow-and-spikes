{
 "cells": [
  {
   "cell_type": "markdown",
   "metadata": {},
   "source": [
    "## This notebook identify possible spikes and save the spikes plk data files"
   ]
  },
  {
   "cell_type": "code",
   "execution_count": 26,
   "metadata": {},
   "outputs": [
    {
     "name": "stdout",
     "output_type": "stream",
     "text": [
      "%pylab is deprecated, use %matplotlib inline and import the required libraries.\n",
      "Populating the interactive namespace from numpy and matplotlib\n"
     ]
    },
    {
     "name": "stderr",
     "output_type": "stream",
     "text": [
      "/home/kat/ve3/lib/python3.8/site-packages/IPython/core/magics/pylab.py:162: UserWarning: pylab import has clobbered these variables: ['datetime']\n",
      "`%matplotlib` prevents importing * from pylab and numpy\n",
      "  warn(\"pylab import has clobbered these variables: %s\"  % clobbered +\n"
     ]
    }
   ],
   "source": [
    "import matplotlib.pyplot as plt\n",
    "import numpy as np\n",
    "import pandas as pd\n",
    "from datetime import datetime\n",
    "import Wind_spikes_function as WF\n",
    "%pylab inline"
   ]
  },
  {
   "cell_type": "code",
   "execution_count": 28,
   "metadata": {},
   "outputs": [
    {
     "data": {
      "text/plain": [
       "'/data/Wind_data_project/Meerkat_data'"
      ]
     },
     "execution_count": 28,
     "metadata": {},
     "output_type": "execute_result"
    }
   ],
   "source": [
    "pwd"
   ]
  },
  {
   "cell_type": "code",
   "execution_count": 29,
   "metadata": {},
   "outputs": [
    {
     "name": "stderr",
     "output_type": "stream",
     "text": [
      "/data/Wind_data_project/spikes_data/Wind_spikes_function.py:36: SettingWithCopyWarning: \n",
      "A value is trying to be set on a copy of a slice from a DataFrame.\n",
      "Try using .loc[row_indexer,col_indexer] = value instead\n",
      "\n",
      "See the caveats in the documentation: https://pandas.pydata.org/pandas-docs/stable/user_guide/indexing.html#returning-a-view-versus-a-copy\n",
      "  spikes_roll_upper['spikes_mean'] = spikes_roll_upper.anc_gust_wind_speed.rolling(window=60).median()\n",
      "/data/Wind_data_project/spikes_data/Wind_spikes_function.py:37: SettingWithCopyWarning: \n",
      "A value is trying to be set on a copy of a slice from a DataFrame.\n",
      "Try using .loc[row_indexer,col_indexer] = value instead\n",
      "\n",
      "See the caveats in the documentation: https://pandas.pydata.org/pandas-docs/stable/user_guide/indexing.html#returning-a-view-versus-a-copy\n",
      "  spikes_roll_lower['spikes_mean'] = spikes_roll_lower.anc_gust_wind_speed.rolling(window=60).median()\n",
      "/data/Wind_data_project/spikes_data/Wind_spikes_function.py:40: SettingWithCopyWarning: \n",
      "A value is trying to be set on a copy of a slice from a DataFrame.\n",
      "Try using .loc[row_indexer,col_indexer] = value instead\n",
      "\n",
      "See the caveats in the documentation: https://pandas.pydata.org/pandas-docs/stable/user_guide/indexing.html#returning-a-view-versus-a-copy\n",
      "  spikes_roll_upper['spikes_std'] = spikes_roll_upper.anc_gust_wind_speed.rolling(window=60).std()\n",
      "/data/Wind_data_project/spikes_data/Wind_spikes_function.py:41: SettingWithCopyWarning: \n",
      "A value is trying to be set on a copy of a slice from a DataFrame.\n",
      "Try using .loc[row_indexer,col_indexer] = value instead\n",
      "\n",
      "See the caveats in the documentation: https://pandas.pydata.org/pandas-docs/stable/user_guide/indexing.html#returning-a-view-versus-a-copy\n",
      "  spikes_roll_lower['spikes_std'] = spikes_roll_lower.anc_gust_wind_speed.rolling(window=60).std()\n",
      "/data/Wind_data_project/spikes_data/Wind_spikes_function.py:43: SettingWithCopyWarning: \n",
      "A value is trying to be set on a copy of a slice from a DataFrame.\n",
      "Try using .loc[row_indexer,col_indexer] = value instead\n",
      "\n",
      "See the caveats in the documentation: https://pandas.pydata.org/pandas-docs/stable/user_guide/indexing.html#returning-a-view-versus-a-copy\n",
      "  spikes_roll_upper['spikes_height'] = spikes_roll_upper['anc_gust_wind_speed'] - spikes_roll_upper['roll_mean']\n",
      "/data/Wind_data_project/spikes_data/Wind_spikes_function.py:44: SettingWithCopyWarning: \n",
      "A value is trying to be set on a copy of a slice from a DataFrame.\n",
      "Try using .loc[row_indexer,col_indexer] = value instead\n",
      "\n",
      "See the caveats in the documentation: https://pandas.pydata.org/pandas-docs/stable/user_guide/indexing.html#returning-a-view-versus-a-copy\n",
      "  spikes_roll_lower['spikes_height'] = spikes_roll_lower['roll_mean'] - spikes_roll_lower['anc_gust_wind_speed']\n",
      "/data/Wind_data_project/spikes_data/Wind_spikes_function.py:46: SettingWithCopyWarning: \n",
      "A value is trying to be set on a copy of a slice from a DataFrame.\n",
      "Try using .loc[row_indexer,col_indexer] = value instead\n",
      "\n",
      "See the caveats in the documentation: https://pandas.pydata.org/pandas-docs/stable/user_guide/indexing.html#returning-a-view-versus-a-copy\n",
      "  spikes_roll_upper['spikes_significance'] = spikes_roll_upper['spikes_height']/spikes_roll_upper['spikes_std']\n",
      "/data/Wind_data_project/spikes_data/Wind_spikes_function.py:47: SettingWithCopyWarning: \n",
      "A value is trying to be set on a copy of a slice from a DataFrame.\n",
      "Try using .loc[row_indexer,col_indexer] = value instead\n",
      "\n",
      "See the caveats in the documentation: https://pandas.pydata.org/pandas-docs/stable/user_guide/indexing.html#returning-a-view-versus-a-copy\n",
      "  spikes_roll_lower['spikes_significance'] = spikes_roll_lower['spikes_height']/spikes_roll_lower['spikes_std']\n"
     ]
    }
   ],
   "source": [
    "#years_ = ['2020','2021','2022','2023']\n",
    "years_ = ['2023']\n",
    "\n",
    "for i in years_:\n",
    "    string = '/data/Wind_data_project/Meerkat_data_new/anc_gust_wind_speed_'+str(i)+'.pkl'\n",
    "    \n",
    "    Data = {'2020':{'Meerkat' :{'Timestamp' : [], 'anc_gust_wind_speed': [] },\n",
    "\n",
    "                    'positive_spikes': {'Timestamp' : [], 'anc_gust_wind_speed': [],\n",
    "                                        'spikes_significance':[],'spikes_height':[]},\n",
    "\n",
    "                    'negative_spikes': {'Timestamp' : [], 'anc_gust_wind_speed': [],\n",
    "                                        'spikes_significance':[],'spikes_height':[]}\n",
    "                   },\n",
    "\n",
    "            '2021':{'Meerkat' :{'Timestamp' : [], 'anc_gust_wind_speed': [] },\n",
    "\n",
    "                    'positive_spikes': {'Timestamp' : [], 'anc_gust_wind_speed': [],\n",
    "                                        'spikes_significance':[],'spikes_height':[]},\n",
    "\n",
    "                    'negative_spikes': {'Timestamp' : [], 'anc_gust_wind_speed': [],\n",
    "                                        'spikes_significance':[],'spikes_height':[]}\n",
    "                   },\n",
    "            '2022':{'Meerkat' :{'Timestamp' : [], 'anc_gust_wind_speed': [] },\n",
    "\n",
    "                    'positive_spikes': {'Timestamp' : [], 'anc_gust_wind_speed': [],\n",
    "                                        'spikes_significance':[],'spikes_height':[]},\n",
    "\n",
    "                    'negative_spikes': {'Timestamp' : [], 'anc_gust_wind_speed': [],\n",
    "                                        'spikes_significance':[],'spikes_height':[]}\n",
    "                   },\n",
    "\n",
    "            '2023':{'Meerkat' :{'Timestamp' : [], 'anc_gust_wind_speed': [] },\n",
    "\n",
    "                    'positive_spikes': {'Timestamp' : [], 'anc_gust_wind_speed': [],\n",
    "                                        'spikes_significance':[],'spikes_height':[]},\n",
    "\n",
    "                    'negative_spikes': {'Timestamp' : [], 'anc_gust_wind_speed': [],\n",
    "                                        'spikes_significance':[],'spikes_height':[]}\n",
    "                   }\n",
    "           }\n",
    "\n",
    "\n",
    "    data_info = WF.read_data(string)\n",
    "\n",
    "    df2 = data_info[0]\n",
    "    spikes_roll_upper = data_info[1]\n",
    "    spikes_roll_lower = data_info[2]\n",
    "\n",
    "    \n",
    "    Data[i]['Meerkat']['Timestamp'].append(df2.Timestamp )\n",
    "    Data[i]['Meerkat']['anc_gust_wind_speed'].append(df2.anc_gust_wind_speed)\n",
    "    \n",
    "    \n",
    "    Data[i]['positive_spikes']['Timestamp'].append(spikes_roll_upper.Timestamp )\n",
    "    Data[i]['positive_spikes']['anc_gust_wind_speed'].append(spikes_roll_upper.anc_gust_wind_speed )\n",
    "    Data[i]['positive_spikes']['spikes_significance'].append(spikes_roll_upper.spikes_significance )\n",
    "    Data[i]['positive_spikes']['spikes_height'].append(spikes_roll_upper.spikes_height )\n",
    "    \n",
    "    Data[i]['negative_spikes']['Timestamp'].append(spikes_roll_lower.Timestamp )\n",
    "    Data[i]['negative_spikes']['anc_gust_wind_speed'].append(spikes_roll_lower.anc_gust_wind_speed )\n",
    "    Data[i]['negative_spikes']['spikes_significance'].append(spikes_roll_lower.spikes_significance )\n",
    "    Data[i]['negative_spikes']['spikes_height'].append(spikes_roll_lower.spikes_height )\n",
    "    \n",
    "    \n",
    "    Data = pd.DataFrame(Data)\n",
    "    Data.to_csv('/data/Wind_data_project/Identified_spikes_'+str(i)+'.plk')"
   ]
  },
  {
   "cell_type": "code",
   "execution_count": 5,
   "metadata": {},
   "outputs": [
    {
     "data": {
      "text/plain": [
       "'/data/Wind_data_project/spikes_data'"
      ]
     },
     "execution_count": 5,
     "metadata": {},
     "output_type": "execute_result"
    }
   ],
   "source": [
    "pwd"
   ]
  },
  {
   "cell_type": "code",
   "execution_count": null,
   "metadata": {},
   "outputs": [],
   "source": []
  }
 ],
 "metadata": {
  "kernelspec": {
   "display_name": "Python 3",
   "language": "python",
   "name": "python3"
  },
  "language_info": {
   "codemirror_mode": {
    "name": "ipython",
    "version": 3
   },
   "file_extension": ".py",
   "mimetype": "text/x-python",
   "name": "python",
   "nbconvert_exporter": "python",
   "pygments_lexer": "ipython3",
   "version": "3.8.10"
  }
 },
 "nbformat": 4,
 "nbformat_minor": 4
}
